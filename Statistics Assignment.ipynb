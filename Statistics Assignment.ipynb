{
 "cells": [
  {
   "cell_type": "code",
   "execution_count": 1,
   "id": "7706c5dd-c192-466c-8068-99afd36817a4",
   "metadata": {},
   "outputs": [
    {
     "name": "stdout",
     "output_type": "stream",
     "text": [
      "[101, 102, 124, 99, 126, 108, 121, 129, 90, 119, 98, 93, 123, 96, 110, 112, 104, 114, 106, 130, 104, 115, 128, 102, 113, 105, 120, 100, 126, 121, 128, 126, 125, 130, 115, 111, 128, 128, 111, 96, 129, 112, 111, 94, 96, 106, 129, 92, 112, 112, 109, 112, 123, 109, 127, 97, 101, 124, 95, 124, 114, 96, 114, 109, 101, 100, 128, 99, 92, 110, 130, 123, 111, 126, 129, 126, 106, 115, 121, 127, 91, 129, 119, 129, 127, 129, 110, 112, 122, 105, 101, 114, 109, 128, 92, 120, 130, 105, 109, 120]\n",
      "Mean: 113.29\n"
     ]
    }
   ],
   "source": [
    "# 1. Generate a list of 100 integers containing values between 90 to 130 and store it in the variable `int_list`.\n",
    "# After generating the list, find the following:\n",
    "\n",
    "# (i) Write a Python function to calculate the mean of a given list of numbers. \n",
    "# Create a function to find the median of a list of numbers.\n",
    "\n",
    "import random\n",
    "\n",
    "int_list = [random.randint(90, 130) for _ in range(100)]\n",
    "print(int_list)\n",
    "def calculate_mean(numbers):\n",
    "    return sum(numbers) / len(numbers)\n",
    "\n",
    "mean_value = calculate_mean(int_list)\n",
    "print(f\"Mean: {mean_value}\")"
   ]
  },
  {
   "cell_type": "code",
   "execution_count": 2,
   "id": "b53c3bff-8b6a-40ef-9a04-02279b4d4214",
   "metadata": {},
   "outputs": [
    {
     "name": "stdout",
     "output_type": "stream",
     "text": [
      "Mode: 129\n"
     ]
    }
   ],
   "source": [
    "#   (ii) Develop a program to compute the mode of a list of integers.\n",
    "\n",
    "from collections import Counter\n",
    "\n",
    "def calculate_mode(numbers):\n",
    "    count = Counter(numbers)\n",
    "    mode_data = count.most_common(1)\n",
    "    return mode_data[0][0]\n",
    "\n",
    "mode_value = calculate_mode(int_list)\n",
    "print(f\"Mode: {mode_value}\")\n"
   ]
  },
  {
   "cell_type": "code",
   "execution_count": 3,
   "id": "09972725-581c-4a05-bb1e-11cc52769019",
   "metadata": {},
   "outputs": [
    {
     "name": "stdout",
     "output_type": "stream",
     "text": [
      "Weighted Mean: 113.1122870113222\n"
     ]
    }
   ],
   "source": [
    "#   (iii) Implement a function to calculate the weighted mean of a list of values and their corresponding weights.\n",
    "\n",
    "def calculate_weighted_mean(values, weights):\n",
    "    weighted_sum = sum(v * w for v, w in zip(values, weights))\n",
    "    total_weight = sum(weights)\n",
    "    return weighted_sum / total_weight\n",
    "\n",
    "weights = [random.uniform(1, 3) for _ in range(100)]\n",
    "weighted_mean_value = calculate_weighted_mean(int_list, weights)\n",
    "print(f\"Weighted Mean: {weighted_mean_value}\")\n"
   ]
  },
  {
   "cell_type": "code",
   "execution_count": 4,
   "id": "ab4ec699-2d0b-4cec-9197-1ccd1f96bd4a",
   "metadata": {},
   "outputs": [
    {
     "name": "stdout",
     "output_type": "stream",
     "text": [
      "Geometric Mean: 112.64493726216236\n"
     ]
    }
   ],
   "source": [
    "#   (iv) Write a Python function to find the geometric mean of a list of positive numbers.\n",
    "\n",
    "import math\n",
    "\n",
    "def calculate_geometric_mean(numbers):\n",
    "    product = 1\n",
    "    n = len(numbers)\n",
    "    for num in numbers:\n",
    "        product *= num\n",
    "    return product ** (1 / n)\n",
    "\n",
    "geometric_mean_value = calculate_geometric_mean(int_list)\n",
    "print(f\"Geometric Mean: {geometric_mean_value}\")\n"
   ]
  },
  {
   "cell_type": "code",
   "execution_count": 5,
   "id": "aacf211d-2614-4b56-b7c6-e67320a4ca83",
   "metadata": {},
   "outputs": [
    {
     "name": "stdout",
     "output_type": "stream",
     "text": [
      "Harmonic Mean: 111.98806388365765\n"
     ]
    }
   ],
   "source": [
    "#   (v) Create a program to calculate the harmonic mean of a list of values.\n",
    "\n",
    "def calculate_harmonic_mean(numbers):\n",
    "    n = len(numbers)\n",
    "    reciprocal_sum = sum(1 / num for num in numbers)\n",
    "    return n / reciprocal_sum\n",
    "\n",
    "harmonic_mean_value = calculate_harmonic_mean(int_list)\n",
    "print(f\"Harmonic Mean: {harmonic_mean_value}\")\n"
   ]
  },
  {
   "cell_type": "code",
   "execution_count": 6,
   "id": "6c93cc47-4107-4093-8883-ae5611d0610a",
   "metadata": {},
   "outputs": [
    {
     "name": "stdout",
     "output_type": "stream",
     "text": [
      "Midrange: 110.0\n"
     ]
    }
   ],
   "source": [
    "#   (vi) Build a function to determine the midrange of a list of numbers (average of the minimum and maximum).\n",
    "\n",
    "def calculate_midrange(numbers):\n",
    "    return (min(numbers) + max(numbers)) / 2\n",
    "\n",
    "midrange_value = calculate_midrange(int_list)\n",
    "print(f\"Midrange: {midrange_value}\")\n"
   ]
  },
  {
   "cell_type": "code",
   "execution_count": 7,
   "id": "0ad597bb-bd64-4fcb-aa7f-22eed934f37a",
   "metadata": {},
   "outputs": [
    {
     "name": "stdout",
     "output_type": "stream",
     "text": [
      "Trimmed Mean: 113.8\n"
     ]
    }
   ],
   "source": [
    "#   (vii) Implement a Python program to find the trimmed mean of a list, excluding a certain percentage of\n",
    "# outliers.\n",
    "\n",
    "from scipy.stats import trim_mean\n",
    "\n",
    "def calculate_trimmed_mean(numbers, proportion_to_cut):\n",
    "    return trim_mean(numbers, proportion_to_cut)\n",
    "\n",
    "trimmed_mean_value = calculate_trimmed_mean(int_list, 0.1)\n",
    "print(f\"Trimmed Mean: {trimmed_mean_value}\")\n"
   ]
  },
  {
   "cell_type": "code",
   "execution_count": 8,
   "id": "91cda491-f141-4ae1-a45f-b552e13666bf",
   "metadata": {},
   "outputs": [
    {
     "name": "stdout",
     "output_type": "stream",
     "text": [
      "[246, 261, 212, 239, 206, 247, 288, 224, 239, 237, 246, 205, 239, 238, 245, 241, 294, 224, 248, 245, 251, 217, 261, 205, 266, 283, 284, 264, 261, 253, 209, 258, 214, 236, 283, 242, 279, 248, 262, 287, 271, 261, 283, 255, 270, 297, 289, 285, 287, 248, 277, 210, 281, 283, 256, 271, 295, 239, 293, 226, 282, 206, 230, 203, 202, 287, 289, 250, 278, 272, 295, 283, 291, 287, 232, 261, 210, 242, 248, 273, 234, 295, 208, 237, 211, 266, 272, 229, 260, 294, 267, 276, 206, 216, 267, 249, 274, 256, 265, 290, 250, 217, 263, 241, 294, 251, 240, 284, 273, 253, 210, 231, 204, 222, 285, 258, 246, 220, 240, 217, 254, 298, 294, 243, 248, 252, 299, 264, 204, 279, 243, 266, 218, 236, 262, 210, 270, 294, 206, 217, 277, 215, 267, 253, 291, 268, 257, 212, 248, 242, 260, 246, 291, 242, 294, 291, 297, 263, 271, 229, 296, 217, 233, 217, 243, 212, 239, 285, 234, 217, 217, 247, 263, 212, 277, 220, 222, 269, 239, 227, 228, 292, 254, 233, 236, 209, 283, 236, 202, 202, 222, 208, 270, 220, 215, 246, 228, 286, 247, 212, 253, 218, 294, 273, 246, 209, 264, 267, 261, 278, 241, 279, 222, 265, 298, 250, 210, 231, 273, 243, 247, 221, 243, 276, 261, 247, 249, 238, 299, 232, 248, 215, 225, 259, 234, 276, 245, 234, 267, 271, 263, 212, 227, 252, 252, 274, 254, 200, 274, 244, 218, 217, 246, 284, 215, 212, 215, 253, 258, 229, 205, 210, 240, 207, 278, 280, 249, 257, 212, 271, 254, 290, 290, 257, 248, 221, 268, 279, 287, 278, 250, 243, 282, 294, 263, 200, 250, 280, 279, 224, 287, 205, 239, 266, 245, 253, 282, 222, 220, 271, 294, 256, 299, 270, 270, 243, 252, 200, 253, 284, 218, 298, 261, 300, 229, 200, 248, 204, 277, 220, 297, 237, 285, 225, 288, 243, 272, 265, 264, 297, 280, 258, 292, 241, 225, 282, 207, 223, 219, 257, 232, 269, 264, 275, 216, 249, 289, 287, 239, 224, 238, 271, 270, 249, 219, 264, 290, 218, 215, 287, 265, 299, 207, 252, 222, 262, 283, 277, 285, 216, 235, 221, 204, 246, 268, 273, 289, 298, 258, 276, 207, 206, 239, 281, 224, 234, 259, 278, 210, 237, 286, 203, 236, 258, 207, 293, 265, 226, 265, 279, 220, 235, 248, 213, 206, 279, 262, 211, 228, 227, 275, 221, 245, 250, 275, 250, 234, 272, 206, 240, 286, 219, 268, 221, 212, 296, 220, 278, 247, 202, 200, 219, 248, 287, 229, 238, 265, 229, 278, 205, 255, 217, 207, 266, 235, 211, 223, 201, 295, 213, 233, 271, 253, 291, 298, 267, 207, 265, 217, 240, 203, 256, 255, 254, 260, 229, 273, 257, 217, 291, 253, 271, 249, 220, 249, 260, 227, 226, 220, 259, 261, 233, 261, 282, 233, 250, 275, 213, 288, 299, 247, 299, 207, 294, 259, 278, 274, 281, 289, 277]\n"
     ]
    },
    {
     "data": {
      "image/png": "[encoded data removed]",
      "text/plain": [
       "<Figure size 1200x600 with 1 Axes>"
      ]
     },
     "metadata": {},
     "output_type": "display_data"
    },
    {
     "data": {
      "image/png": "[encoded data removed]",
      "text/plain": [
       "<Figure size 1200x600 with 1 Axes>"
      ]
     },
     "metadata": {},
     "output_type": "display_data"
    },
    {
     "data": {
      "image/png": "[encoded data removed]",
      "text/plain": [
       "<Figure size 1200x600 with 1 Axes>"
      ]
     },
     "metadata": {},
     "output_type": "display_data"
    }
   ],
   "source": [
    "# 2. Generate a list of 500 integers containing values between 200 to 300 and store it in the variable `int_list2`.\n",
    "# After generating the list, find the following:\n",
    "\n",
    "# (i) Compare the given list of visualization for the given data:\n",
    "\n",
    "#     1. Frequency & Gaussian distribution\n",
    "#     2. Frequency smoothened KDE plot\n",
    "#     3. Gaussian distribution & smoothened KDE plot\n",
    "\n",
    "import random\n",
    "import matplotlib.pyplot as plt\n",
    "import seaborn as sns\n",
    "import numpy as np\n",
    "from scipy.stats import norm\n",
    "\n",
    "int_list2 = [random.randint(200, 300) for _ in range(500)]\n",
    "print(int_list2)\n",
    "\n",
    "plt.figure(figsize=(12, 6))\n",
    "\n",
    "sns.histplot(int_list2, bins=20, kde=False, color='skyblue', stat='density', label='Frequency Histogram')\n",
    "\n",
    "mu, sigma = np.mean(int_list2), np.std(int_list2)\n",
    "x = np.linspace(min(int_list2), max(int_list2), 100)\n",
    "plt.plot(x, norm.pdf(x, mu, sigma), label='Gaussian Distribution', color='red')\n",
    "\n",
    "plt.title(\"Frequency & Gaussian Distribution\")\n",
    "plt.legend()\n",
    "plt.show()\n",
    "\n",
    "plt.figure(figsize=(12, 6))\n",
    "\n",
    "sns.histplot(int_list2, bins=20, kde=True, color='lightgreen', label='Frequency + KDE')\n",
    "\n",
    "plt.title(\"Frequency Smoothened with KDE Plot\")\n",
    "plt.legend()\n",
    "plt.show()\n",
    "\n",
    "plt.figure(figsize=(12, 6))\n",
    "\n",
    "sns.kdeplot(int_list2, color='blue', label='KDE Plot')\n",
    "\n",
    "plt.plot(x, norm.pdf(x, mu, sigma), label='Gaussian Distribution', color='red')\n",
    "\n",
    "plt.title(\"Gaussian Distribution & Smoothened KDE Plot\")\n",
    "plt.legend()\n",
    "plt.show()  "
   ]
  },
  {
   "cell_type": "code",
   "execution_count": 9,
   "id": "8041e64d-6f59-4b12-af28-d6a62a7208a0",
   "metadata": {},
   "outputs": [
    {
     "name": "stdout",
     "output_type": "stream",
     "text": [
      "Range: 100\n"
     ]
    }
   ],
   "source": [
    "  # (ii) Write a Python function to calculate the range of a given list of numbers.\n",
    "\n",
    "def calculate_range(numbers):\n",
    "    return max(numbers) - min(numbers)\n",
    "\n",
    "range_value = calculate_range(int_list2)\n",
    "print(f\"Range: {range_value}\")\n"
   ]
  },
  {
   "cell_type": "code",
   "execution_count": 10,
   "id": "0639d717-29cd-48e7-9a0d-b90fb20882d4",
   "metadata": {},
   "outputs": [
    {
     "name": "stdout",
     "output_type": "stream",
     "text": [
      "Variance: 788.0575359999999\n",
      "Standard Deviation: 28.072362494097284\n"
     ]
    }
   ],
   "source": [
    "  # (iii) Create a program to find the variance and standard deviation of a list of numbers.\n",
    "\n",
    "def calculate_variance_and_std(numbers):\n",
    "    n = len(numbers)\n",
    "    mean = sum(numbers) / n\n",
    "    variance = sum((x - mean) ** 2 for x in numbers) / n\n",
    "    std_dev = variance ** 0.5\n",
    "    return variance, std_dev\n",
    "\n",
    "variance_value, std_dev_value = calculate_variance_and_std(int_list2)\n",
    "print(f\"Variance: {variance_value}\")\n",
    "print(f\"Standard Deviation: {std_dev_value}\")\n"
   ]
  },
  {
   "cell_type": "code",
   "execution_count": 11,
   "id": "5fcd7aaa-0001-46a2-bbda-fb62e23b4765",
   "metadata": {},
   "outputs": [
    {
     "name": "stdout",
     "output_type": "stream",
     "text": [
      "IQR: 48.25\n"
     ]
    }
   ],
   "source": [
    "  # (iv) Implement a function to compute the interquartile range (IQR) of a list of values.\n",
    "\n",
    "def calculate_iqr(numbers):\n",
    "    sorted_list = sorted(numbers)\n",
    "    q1 = np.percentile(sorted_list, 25)\n",
    "    q3 = np.percentile(sorted_list, 75)\n",
    "    return q3 - q1\n",
    "\n",
    "iqr_value = calculate_iqr(int_list2)\n",
    "print(f\"IQR: {iqr_value}\")\n"
   ]
  },
  {
   "cell_type": "code",
   "execution_count": 12,
   "id": "5bbb09be-6b34-4007-9fc9-a4ee13dd5dfa",
   "metadata": {},
   "outputs": [
    {
     "name": "stdout",
     "output_type": "stream",
     "text": [
      "Coefficient of Variation: 11.21%\n"
     ]
    }
   ],
   "source": [
    "  # (v) Build a program to calculate the coefficient of variation for a dataset.\n",
    "\n",
    "def calculate_coefficient_of_variation(numbers):\n",
    "    mean = sum(numbers) / len(numbers)\n",
    "    variance = sum((x - mean) ** 2 for x in numbers) / len(numbers)\n",
    "    std_dev = variance ** 0.5\n",
    "    return (std_dev / mean) * 100\n",
    "\n",
    "cv_value = calculate_coefficient_of_variation(int_list2)\n",
    "print(f\"Coefficient of Variation: {cv_value:.2f}%\")\n"
   ]
  },
  {
   "cell_type": "code",
   "execution_count": 13,
   "id": "b85485a9-3a23-479a-84b6-fcd5e945f56e",
   "metadata": {},
   "outputs": [
    {
     "name": "stdout",
     "output_type": "stream",
     "text": [
      "Mean Absolute Deviation (MAD): 23.975264\n"
     ]
    }
   ],
   "source": [
    "  # (vi) Write a Python function to find the mean absolute deviation (MAD) of a list of numbers.\n",
    "\n",
    "def calculate_mad(numbers):\n",
    "    mean = sum(numbers) / len(numbers)\n",
    "    return sum(abs(x - mean) for x in numbers) / len(numbers)\n",
    "\n",
    "mad_value = calculate_mad(int_list2)\n",
    "print(f\"Mean Absolute Deviation (MAD): {mad_value}\")\n"
   ]
  },
  {
   "cell_type": "code",
   "execution_count": 14,
   "id": "d71e81e8-2b3d-47d5-b043-e9a7a3f5162d",
   "metadata": {},
   "outputs": [
    {
     "name": "stdout",
     "output_type": "stream",
     "text": [
      "Quartile Deviation: 24.125\n"
     ]
    }
   ],
   "source": [
    "  # (vii) Create a program to calculate the quartile deviation of a list of values.\n",
    "\n",
    "def calculate_quartile_deviation(numbers):\n",
    "    sorted_list = sorted(numbers)\n",
    "    q1 = np.percentile(sorted_list, 25)\n",
    "    q3 = np.percentile(sorted_list, 75)\n",
    "    return (q3 - q1) / 2\n",
    "\n",
    "quartile_deviation_value = calculate_quartile_deviation(int_list2)\n",
    "print(f\"Quartile Deviation: {quartile_deviation_value}\")\n"
   ]
  },
  {
   "cell_type": "code",
   "execution_count": 15,
   "id": "683de659-c321-4153-9a2b-c0c5b71c8306",
   "metadata": {},
   "outputs": [
    {
     "name": "stdout",
     "output_type": "stream",
     "text": [
      "Range-Based Coefficient of Dispersion: 0.2\n"
     ]
    }
   ],
   "source": [
    " # (viii) Implement a function to find the range-based coefficient of dispersion for a dataset.\n",
    "\n",
    "def calculate_coefficient_of_dispersion(numbers):\n",
    "    range_value = max(numbers) - min(numbers)\n",
    "    return range_value / (max(numbers) + min(numbers))\n",
    "\n",
    "coefficient_dispersion_value = calculate_coefficient_of_dispersion(int_list2)\n",
    "print(f\"Range-Based Coefficient of Dispersion: {coefficient_dispersion_value}\")\n"
   ]
  },
  {
   "cell_type": "code",
   "execution_count": 16,
   "id": "54a64541-532d-4f6f-81a4-08cab93b6a95",
   "metadata": {},
   "outputs": [
    {
     "name": "stdout",
     "output_type": "stream",
     "text": [
      "Expected Value: 3.2\n",
      "Variance: 1.56\n"
     ]
    }
   ],
   "source": [
    " # 3. Write a Python class representing a discrete random variable with methods to calculate its expected\n",
    "# value and variance.\n",
    "\n",
    "class DiscreteRandomVariable:\n",
    "    def __init__(self, values, probabilities):\n",
    "        self.values = values\n",
    "        self.probabilities = probabilities\n",
    "\n",
    "    def expected_value(self):\n",
    "        return sum(v * p for v, p in zip(self.values, self.probabilities))\n",
    "\n",
    "    def variance(self):\n",
    "        mean = self.expected_value()\n",
    "        return sum(p * (v - mean) ** 2 for v, p in zip(self.values, self.probabilities))\n",
    "\n",
    "values = [1, 2, 3, 4, 5]\n",
    "probabilities = [0.1, 0.2, 0.3, 0.2, 0.2]\n",
    "\n",
    "random_variable = DiscreteRandomVariable(values, probabilities)\n",
    "\n",
    "expected_val = random_variable.expected_value()\n",
    "variance_val = random_variable.variance()\n",
    "\n",
    "print(f\"Expected Value: {expected_val}\")\n",
    "print(f\"Variance: {variance_val}\")\n"
   ]
  },
  {
   "cell_type": "code",
   "execution_count": 17,
   "id": "49ceb498-929d-4f02-8be7-01594142ecd5",
   "metadata": {},
   "outputs": [
    {
     "name": "stdout",
     "output_type": "stream",
     "text": [
      "Expected Value: 7.123\n",
      "Variance: 5.921871\n"
     ]
    }
   ],
   "source": [
    "# 4. Implement a program to simulate the rolling o6 a 6air six-sided die and calculate the expected value and\n",
    "# variance o6 the outcomes.\n",
    "\n",
    "import random\n",
    "\n",
    "def roll_two_dice(num_simulations):\n",
    "    outcomes = []\n",
    "    for _ in range(num_simulations):\n",
    "        die1 = random.randint(1, 6)\n",
    "        die2 = random.randint(1, 6)\n",
    "        outcomes.append(die1 + die2)\n",
    "    return outcomes\n",
    "\n",
    "def calculate_expected_value(outcomes):\n",
    "    return sum(outcomes) / len(outcomes)\n",
    "\n",
    "def calculate_variance(outcomes):\n",
    "    mean = calculate_expected_value(outcomes)\n",
    "    return sum((x - mean) ** 2 for x in outcomes) / len(outcomes)\n",
    "\n",
    "num_simulations = 1000\n",
    "outcomes = roll_two_dice(num_simulations)\n",
    "\n",
    "expected_value = calculate_expected_value(outcomes)\n",
    "variance_value = calculate_variance(outcomes)\n",
    "\n",
    "print(f\"Expected Value: {expected_value}\")\n",
    "print(f\"Variance: {variance_value}\")\n",
    "\n"
   ]
  },
  {
   "cell_type": "code",
   "execution_count": 18,
   "id": "1c2ebb76-0afb-4e4f-b4fc-8a2b76102150",
   "metadata": {},
   "outputs": [
    {
     "name": "stdout",
     "output_type": "stream",
     "text": [
      "Binomial Distribution - Mean: 4.992, Variance: 2.4739359999999997\n",
      "Poisson Distribution - Mean: 3.961, Variance: 4.1974789999999995\n"
     ]
    }
   ],
   "source": [
    "# 5. Create a Python 6unction to generate random samples 6rom a given probabilities distribution (e.g.,\n",
    "# binomial, Poisson) and calculate their mean and variance.\n",
    "\n",
    "import numpy as np\n",
    "\n",
    "def generate_samples(distribution, params, num_samples):\n",
    "    if distribution == 'binomial':\n",
    "        n, p = params\n",
    "        samples = np.random.binomial(n, p, num_samples)\n",
    "    elif distribution == 'poisson':\n",
    "        lam = params[0]\n",
    "        samples = np.random.poisson(lam, num_samples)\n",
    "    else:\n",
    "        raise ValueError(\"Unsupported distribution. Choose 'binomial' or 'poisson'.\")\n",
    "    \n",
    "    return samples\n",
    "\n",
    "def calculate_mean(samples):\n",
    "    return np.mean(samples)\n",
    "\n",
    "def calculate_variance(samples):\n",
    "    return np.var(samples)\n",
    "\n",
    "num_samples = 1000\n",
    "\n",
    "binomial_samples = generate_samples('binomial', (10, 0.5), num_samples)\n",
    "binomial_mean = calculate_mean(binomial_samples)\n",
    "binomial_variance = calculate_variance(binomial_samples)\n",
    "\n",
    "print(f\"Binomial Distribution - Mean: {binomial_mean}, Variance: {binomial_variance}\")\n",
    "\n",
    "poisson_samples = generate_samples('poisson', (4,), num_samples)\n",
    "poisson_mean = calculate_mean(poisson_samples)\n",
    "poisson_variance = calculate_variance(poisson_samples)\n",
    "\n",
    "print(f\"Poisson Distribution - Mean: {poisson_mean}, Variance: {poisson_variance}\")\n"
   ]
  },
  {
   "cell_type": "code",
   "execution_count": 19,
   "id": "6190be31-b630-47ba-ab25-4004ab57e363",
   "metadata": {},
   "outputs": [
    {
     "name": "stdout",
     "output_type": "stream",
     "text": [
      "Sample Mean: -0.035202886938359684\n",
      "Sample Variance: 0.9408080717932944\n",
      "Sample Standard Deviation: 0.9699526131689601\n"
     ]
    }
   ],
   "source": [
    "# 6. Write a Python script to generate random numbers from a Gaussian (normal) distribution and compute\n",
    "# the mean, variance, and standard deviation o6 the samples.\n",
    "\n",
    "import numpy as np\n",
    "\n",
    "def generate_gaussian_samples(mean, std_dev, num_samples):\n",
    "    return np.random.normal(mean, std_dev, num_samples)\n",
    "\n",
    "def calculate_mean(samples):\n",
    "    return np.mean(samples)\n",
    "\n",
    "def calculate_variance(samples):\n",
    "    return np.var(samples)\n",
    "\n",
    "def calculate_std_dev(samples):\n",
    "    return np.std(samples)\n",
    "\n",
    "mean_value = 0      \n",
    "std_dev_value = 1   \n",
    "num_samples = 1000  \n",
    "\n",
    "gaussian_samples = generate_gaussian_samples(mean_value, std_dev_value, num_samples)\n",
    "\n",
    "sample_mean = calculate_mean(gaussian_samples)\n",
    "sample_variance = calculate_variance(gaussian_samples)\n",
    "sample_std_dev = calculate_std_dev(gaussian_samples)\n",
    "\n",
    "print(f\"Sample Mean: {sample_mean}\")\n",
    "print(f\"Sample Variance: {sample_variance}\")\n",
    "print(f\"Sample Standard Deviation: {sample_std_dev}\")\n"
   ]
  },
  {
   "cell_type": "code",
   "execution_count": 25,
   "id": "c3718c3f-f5c4-4327-abf3-8d3582819ccb",
   "metadata": {},
   "outputs": [
    {
     "name": "stdout",
     "output_type": "stream",
     "text": [
      "total_bill is positively skewed.\n",
      "tip is positively skewed.\n",
      "Covariance: 8.289388917629669\n",
      "Pearson Correlation Coefficient: 0.6757341092113645\n"
     ]
    },
    {
     "data": {
      "image/png": "[encoded data removed]",
      "text/plain": [
       "<Figure size 640x480 with 1 Axes>"
      ]
     },
     "metadata": {},
     "output_type": "display_data"
    }
   ],
   "source": [
    "# 7. Use seaborn library to load tips dataset. Find the following from the dataset for the columns total_bill\n",
    "# and tip:\n",
    "\n",
    "# 1. Write a Python function that calculates their skewness.\n",
    "\n",
    "# 2. Create a program that determines whether the columns exhibit positive skewness, negative skewness, or is\n",
    "# approximately symmetric.\n",
    "\n",
    "# 3. Write a function that calculates the covariance between two columns.\n",
    "\n",
    "# 4. Implement a Python program that calculates the Pearson correlation coefficient between two columns.\n",
    "\n",
    "# 5. Write a script to visualize the correlation between two specific columns on a Pandas DataFrame using\n",
    "# scatter plots.\n",
    "\n",
    "import seaborn as sns\n",
    "import pandas as pd\n",
    "import numpy as np\n",
    "import matplotlib.pyplot as plt\n",
    "\n",
    "# Load the tips dataset\n",
    "tips = sns.load_dataset('tips')\n",
    "\n",
    "# Function to calculate skewness\n",
    "def skewness(data):\n",
    "    return np.mean((data - np.mean(data)) ** 3) / np.std(data) ** 3\n",
    "\n",
    "# Determine skewness for total_bill and tip\n",
    "skewness_total_bill = skewness(tips['total_bill'])\n",
    "skewness_tip = skewness(tips['tip'])\n",
    "\n",
    "# Check skewness\n",
    "if skewness_total_bill > 0:\n",
    "    print(\"total_bill is positively skewed.\")\n",
    "elif skewness_total_bill < 0:\n",
    "    print(\"total_bill is negatively skewed.\")\n",
    "else:\n",
    "    print(\"total_bill is approximately symmetric.\")\n",
    "\n",
    "if skewness_tip > 0:\n",
    "    print(\"tip is positively skewed.\")\n",
    "elif skewness_tip < 0:\n",
    "    print(\"tip is negatively skewed.\")\n",
    "else:\n",
    "    print(\"tip is approximately symmetric.\")\n",
    "\n",
    "# Function to calculate covariance\n",
    "def covariance(x, y):\n",
    "    return np.mean((x - np.mean(x)) * (y - np.mean(y)))\n",
    "\n",
    "# Calculate covariance between total_bill and tip\n",
    "covariance_result = covariance(tips['total_bill'], tips['tip'])\n",
    "print(\"Covariance:\", covariance_result)\n",
    "\n",
    "# Calculate Pearson correlation coefficient\n",
    "correlation_result = tips['total_bill'].corr(tips['tip'])\n",
    "print(\"Pearson Correlation Coefficient:\", correlation_result)\n",
    "\n",
    "# Visualize the correlation using a scatter plot\n",
    "plt.scatter(tips['total_bill'], tips['tip'])\n",
    "plt.xlabel(\"Total Bill\")\n",
    "plt.ylabel(\"Tip\")\n",
    "plt.title(\"Correlation between Total Bill and Tip\")\n",
    "plt.show()"
   ]
  },
  {
   "cell_type": "code",
   "execution_count": 55,
   "id": "0fd370c3-fa3d-412e-819f-90e7074cfac2",
   "metadata": {},
   "outputs": [
    {
     "name": "stdout",
     "output_type": "stream",
     "text": [
      "The PDF value at x=0 for a normal distribution with mean=0 and std_dev=1 is 0.3989\n"
     ]
    }
   ],
   "source": [
    "# 8. Write a Python function to calculate the probability density function (PDF) of a continuous random\n",
    "# variable for a given normal distribution.\n",
    "\n",
    "\n",
    "import numpy as np\n",
    "import scipy.stats as stats\n",
    "\n",
    "def normal_pdf(x, mean, std_dev):\n",
    "    return stats.norm.pdf(x, loc=mean, scale=std_dev)\n",
    "\n",
    "x = 0\n",
    "mean = 0\n",
    "std_dev = 1\n",
    "pdf_value = normal_pdf(x, mean, std_dev)\n",
    "print(f'The PDF value at x={x} for a normal distribution with mean={mean} and std_dev={std_dev} is {pdf_value:.4f}')\n"
   ]
  },
  {
   "cell_type": "code",
   "execution_count": 33,
   "id": "9ccf8da5-b051-4c50-9cb2-3215543d0f43",
   "metadata": {},
   "outputs": [
    {
     "data": {
      "image/png": "[encoded data removed]",
      "text/plain": [
       "<Figure size 640x480 with 1 Axes>"
      ]
     },
     "metadata": {},
     "output_type": "display_data"
    }
   ],
   "source": [
    "# 9. Create a program to calculate the cumulative distribution function (CDF) of exponential distribution.\n",
    "\n",
    "import numpy as np\n",
    "import matplotlib.pyplot as plt\n",
    "import scipy.stats as stats\n",
    "\n",
    "def calculate_cdf(x, rate):\n",
    "    return stats.expon.cdf(x, scale=1/rate)\n",
    "\n",
    "x_values = np.linspace(0, 10, 1000)\n",
    "rate = 0.5\n",
    "cdf_values = calculate_cdf(x_values, rate)\n",
    "\n",
    "plt.plot(x_values, cdf_values, label=f'Exponential Distribution\\nRate: {rate}')\n",
    "plt.title('Cumulative Distribution Function (CDF)')\n",
    "plt.xlabel('x')\n",
    "plt.ylabel('CDF')\n",
    "plt.legend()\n",
    "plt.grid(True)\n",
    "plt.show()\n"
   ]
  },
  {
   "cell_type": "code",
   "execution_count": 35,
   "id": "d8528652-82b7-409e-8567-a45efdacdfc7",
   "metadata": {},
   "outputs": [
    {
     "name": "stdout",
     "output_type": "stream",
     "text": [
      "PMF for k = 3 and lambda = 2 is: 0.18044704431548356\n"
     ]
    }
   ],
   "source": [
    "# 10. Write a Python function to calculate the probability mass function (PMF) of Poisson distribution.\n",
    "\n",
    "import numpy as np\n",
    "import scipy.stats as stats\n",
    "\n",
    "def poisson_pmf(k, lambda_param):\n",
    "    \"\"\"\n",
    "    Calculates the PMF of a Poisson distribution.\n",
    "\n",
    "    Args:\n",
    "        k: The number of events.\n",
    "        lambda_param: The average rate of events.\n",
    "\n",
    "    Returns:\n",
    "        The PMF value.\n",
    "    \"\"\"\n",
    "\n",
    "    pmf = stats.poisson.pmf(k, lambda_param)\n",
    "    return pmf\n",
    "\n",
    "# Example usage:\n",
    "k = 3  # Number of events\n",
    "lambda_param = 2  # Average rate of events\n",
    "pmf_value = poisson_pmf(k, lambda_param)\n",
    "print(\"PMF for k =\", k, \"and lambda =\", lambda_param, \"is:\", pmf_value)\n"
   ]
  },
  {
   "cell_type": "code",
   "execution_count": 38,
   "id": "6bb87308-2b2a-4947-a8bb-04a2c027d5fe",
   "metadata": {},
   "outputs": [
    {
     "name": "stdout",
     "output_type": "stream",
     "text": [
      "Z-statistic: 1.883108942886774\n",
      "P-value: 1.9403143944675738\n"
     ]
    }
   ],
   "source": [
    "# 11. A company wants to test in a new website layout leads to a higher conversion rate (percentage oN visitors\n",
    "# who make a purchase). They collect data Nrom the old and new layouts to compare.\n",
    "\n",
    "# To generate the data use the following command:\n",
    "\n",
    "# ```python\n",
    "\n",
    "# import numpy as np\n",
    "\n",
    "# # 50 purchases out of 1000 visitors\n",
    "\n",
    "# old_layout = np.array([1] * 50 + [0] * 950)\n",
    "\n",
    "# # 70 purchases out of 1000 visitors  \n",
    "\n",
    "# new_layout = np.array([1] * 70 + [0] * 930)\n",
    "\n",
    "#   ```\n",
    "\n",
    "# Apply z-test to find which layout is successful.\n",
    "\n",
    "\n",
    "import scipy.stats as stats\n",
    "\n",
    "old_layout = np.array([1] * 50 + [0] * 950)\n",
    "new_layout = np.array([1] * 70 + [0] * 930)\n",
    "\n",
    "p1 = np.mean(old_layout)\n",
    "p2 = np.mean(new_layout)\n",
    "\n",
    "p_pooled = (np.sum(old_layout) + np.sum(new_layout)) / (len(old_layout) + len(new_layout))\n",
    "se = np.sqrt(p_pooled * (1 - p_pooled) * (1/len(old_layout) + 1/len(new_layout)))\n",
    "\n",
    "z = (p2 - p1) / se\n",
    "\n",
    "p_value = stats.norm.cdf(z) * 2  \n",
    "\n",
    "print(\"Z-statistic:\", z)\n",
    "print(\"P-value:\", p_value)"
   ]
  },
  {
   "cell_type": "code",
   "execution_count": 41,
   "id": "a63cffb6-199b-492c-b5c4-2321c05bd05c",
   "metadata": {},
   "outputs": [
    {
     "name": "stdout",
     "output_type": "stream",
     "text": [
      "Mean Difference: 3.8000\n",
      "Standard Deviation of Differences: 2.6162\n",
      "Z-Statistic: 4.5932\n",
      "P-Value: 0.0000\n",
      "The improvement is statistically significant, the tutoring program is effective.\n"
     ]
    }
   ],
   "source": [
    "# 12. A tutoring service claims that its program improves students' exam scores. A sample of students who\n",
    "# participated in the program was taken, and their scores before and after the program were recorded.\n",
    "\n",
    "\n",
    "# Use the below code to generate samples of respective arrays of marks:\n",
    "\n",
    "# ```python\n",
    "\n",
    "# before_program = np.array([75, 80, 85, 70, 90, 78, 92, 88, 82, 87])\n",
    "\n",
    "# after_program = np.array([80, 85, 90, 80, 92, 80, 95, 90, 85, 88])\n",
    "\n",
    "# ```\n",
    "\n",
    "# Use z-test to find if the claims made by tutor are true or false\n",
    "\n",
    "import numpy as np\n",
    "import scipy.stats as stats\n",
    "\n",
    "# Sample data\n",
    "before_program = np.array([75, 80, 85, 70, 90, 78, 92, 88, 82, 87])\n",
    "after_program = np.array([80, 85, 90, 80, 92, 80, 95, 90, 85, 88])\n",
    "\n",
    "differences = after_program - before_program\n",
    "\n",
    "mean_diff = np.mean(differences)\n",
    "std_diff = np.std(differences, ddof=1)\n",
    "\n",
    "n = len(differences)\n",
    "\n",
    "se = std_diff / np.sqrt(n)\n",
    "\n",
    "z = mean_diff / se\n",
    "\n",
    "p_value = 2 * (1 - stats.norm.cdf(abs(z)))\n",
    "\n",
    "print(f'Mean Difference: {mean_diff:.4f}')\n",
    "print(f'Standard Deviation of Differences: {std_diff:.4f}')\n",
    "print(f'Z-Statistic: {z:.4f}')\n",
    "print(f'P-Value: {p_value:.4f}')\n",
    "\n",
    "if p_value < 0.05:\n",
    "    print(\"The improvement is statistically significant, the tutoring program is effective.\")\n",
    "else:\n",
    "    print(\"The improvement is not statistically significant, the tutoring program may not be effective.\")\n"
   ]
  },
  {
   "cell_type": "code",
   "execution_count": 42,
   "id": "e809e00a-09cb-4076-aa9d-102ffff208b5",
   "metadata": {},
   "outputs": [
    {
     "name": "stdout",
     "output_type": "stream",
     "text": [
      "Mean Difference: 10.1000\n",
      "Standard Deviation of Differences: 3.1780\n",
      "Z-Statistic: 10.0499\n",
      "P-Value: 0.0000\n",
      "The reduction in blood pressure is statistically significant, the drug is effective.\n"
     ]
    }
   ],
   "source": [
    "# 13. A pharmaceutical company wants to determine if a new drug is effective in reducing blood pressure. They\n",
    "# conduct a study and record blood pressure measurements before and after administering the drug.\n",
    "\n",
    "# Use the below code to generate samples of respective arrays of blood pressure:\n",
    "\n",
    "# ```python\n",
    "\n",
    "# before_drug = np.array([145, 150, 140, 135, 155, 160, 152, 148, 130, 138])\n",
    "\n",
    "# after_drug = np.array([130, 140, 132, 128, 145, 148, 138, 136, 125, 130])\n",
    "\n",
    "#   ```\n",
    "# Implement z-test to find if the drug really works or not.\n",
    "\n",
    "import numpy as np\n",
    "import scipy.stats as stats\n",
    "\n",
    "# Sample data\n",
    "before_drug = np.array([145, 150, 140, 135, 155, 160, 152, 148, 130, 138])\n",
    "after_drug = np.array([130, 140, 132, 128, 145, 148, 138, 136, 125, 130])\n",
    "\n",
    "differences = before_drug - after_drug\n",
    "\n",
    "mean_diff = np.mean(differences)\n",
    "std_diff = np.std(differences, ddof=1)\n",
    "\n",
    "n = len(differences)\n",
    "\n",
    "se = std_diff / np.sqrt(n)\n",
    "\n",
    "z = mean_diff / se\n",
    "\n",
    "p_value = 2 * (1 - stats.norm.cdf(abs(z)))\n",
    "\n",
    "print(f'Mean Difference: {mean_diff:.4f}')\n",
    "print(f'Standard Deviation of Differences: {std_diff:.4f}')\n",
    "print(f'Z-Statistic: {z:.4f}')\n",
    "print(f'P-Value: {p_value:.4f}')\n",
    "\n",
    "if p_value < 0.05:\n",
    "    print(\"The reduction in blood pressure is statistically significant, the drug is effective.\")\n",
    "else:\n",
    "    print(\"The reduction in blood pressure is not statistically significant, the drug may not be effective.\")\n"
   ]
  },
  {
   "cell_type": "code",
   "execution_count": 43,
   "id": "88276829-cd92-4c6b-8a9d-ff7c9656e639",
   "metadata": {},
   "outputs": [
    {
     "name": "stdout",
     "output_type": "stream",
     "text": [
      "Sample Mean: 4.5700\n",
      "Sample Standard Deviation: 0.4270\n",
      "Z-Statistic: -3.1845\n",
      "P-Value: 0.0007\n",
      "The average response time is significantly less than 5 minutes, the claim is true.\n"
     ]
    }
   ],
   "source": [
    "# 14. A customer service department claims that their average response time is less than 5 minutes. A sample\n",
    "# of recent customer interactions was taken, and the response times were recorded.\n",
    "\n",
    "# Implement the below code to generate the array of response time:\n",
    "\n",
    "# ```python\n",
    "\n",
    "# response_times = np.array([4.3, 3.8, 5.1, 4.9, 4.7, 4.2, 5.2, 4.5, 4.6, 4.4])\n",
    "\n",
    "# ```\n",
    "# Implement z-test to find the claims made by customer service department are true or false.\n",
    "\n",
    "import numpy as np\n",
    "import scipy.stats as stats\n",
    "\n",
    "# Sample data\n",
    "response_times = np.array([4.3, 3.8, 5.1, 4.9, 4.7, 4.2, 5.2, 4.5, 4.6, 4.4])\n",
    "\n",
    "mu = 5\n",
    "\n",
    "sample_mean = np.mean(response_times)\n",
    "sample_std = np.std(response_times, ddof=1)\n",
    "\n",
    "n = len(response_times)\n",
    "\n",
    "se = sample_std / np.sqrt(n)\n",
    "\n",
    "z = (sample_mean - mu) / se\n",
    "\n",
    "p_value = stats.norm.cdf(z)\n",
    "\n",
    "print(f'Sample Mean: {sample_mean:.4f}')\n",
    "print(f'Sample Standard Deviation: {sample_std:.4f}')\n",
    "print(f'Z-Statistic: {z:.4f}')\n",
    "print(f'P-Value: {p_value:.4f}')\n",
    "\n",
    "if p_value < 0.05:\n",
    "    print(\"The average response time is significantly less than 5 minutes, the claim is true.\")\n",
    "else:\n",
    "    print(\"The average response time is not significantly less than 5 minutes, the claim is false.\")\n"
   ]
  },
  {
   "cell_type": "code",
   "execution_count": 44,
   "id": "8d325624-8d03-4c66-a0ee-a7649ebadfd2",
   "metadata": {},
   "outputs": [
    {
     "name": "stdout",
     "output_type": "stream",
     "text": [
      "Mean of Layout A Clicks: 32.5000\n",
      "Mean of Layout B Clicks: 42.0000\n",
      "Standard Deviation of Layout A: 3.0277\n",
      "Standard Deviation of Layout B: 2.7889\n",
      "T-Statistic: -7.2981\n",
      "Degrees of Freedom: 17.8799\n",
      "P-Value: 0.0000\n",
      "There is a statistically significant difference between the two layouts.\n"
     ]
    }
   ],
   "source": [
    "# 15. A company is testing two different website layouts to see which one leads to higher click-through rates.\n",
    "# Write a Python function to perform an A/B test analysis, including calculating the t-statistic, degrees of\n",
    "# freedom, and p-value.\n",
    "\n",
    "# Use the following data:\n",
    "\n",
    "# ```python\n",
    "\n",
    "# layout_a_clicks = [28, 32, 33, 29, 31, 34, 30, 35, 36, 37]\n",
    "\n",
    "# layout_b_clicks = [40, 41, 38, 42, 39, 44, 43, 41, 45, 47]\n",
    "\n",
    "import numpy as np\n",
    "import scipy.stats as stats\n",
    "\n",
    "def ab_test_analysis(layout_a_clicks, layout_b_clicks):\n",
    "    mean_a = np.mean(layout_a_clicks)\n",
    "    mean_b = np.mean(layout_b_clicks)\n",
    "\n",
    "    std_a = np.std(layout_a_clicks, ddof=1)\n",
    "    std_b = np.std(layout_b_clicks, ddof=1)\n",
    "\n",
    "    n_a = len(layout_a_clicks)\n",
    "    n_b = len(layout_b_clicks)\n",
    "\n",
    "    se = np.sqrt((std_a**2 / n_a) + (std_b**2 / n_b))\n",
    "\n",
    "    t_statistic = (mean_a - mean_b) / se\n",
    "\n",
    "    df = (std_a**2 / n_a + std_b**2 / n_b)**2 / (((std_a**2 / n_a)**2 / (n_a - 1)) + ((std_b**2 / n_b)**2 / (n_b - 1)))\n",
    "\n",
    "    p_value = 2 * (1 - stats.t.cdf(abs(t_statistic), df))\n",
    "    \n",
    "    print(f'Mean of Layout A Clicks: {mean_a:.4f}')\n",
    "    print(f'Mean of Layout B Clicks: {mean_b:.4f}')\n",
    "    print(f'Standard Deviation of Layout A: {std_a:.4f}')\n",
    "    print(f'Standard Deviation of Layout B: {std_b:.4f}')\n",
    "    print(f'T-Statistic: {t_statistic:.4f}')\n",
    "    print(f'Degrees of Freedom: {df:.4f}')\n",
    "    print(f'P-Value: {p_value:.4f}')\n",
    "    \n",
    "    if p_value < 0.05:\n",
    "        print(\"There is a statistically significant difference between the two layouts.\")\n",
    "    else:\n",
    "        print(\"There is no statistically significant difference between the two layouts.\")\n",
    "\n",
    "layout_a_clicks = [28, 32, 33, 29, 31, 34, 30, 35, 36, 37]\n",
    "layout_b_clicks = [40, 41, 38, 42, 39, 44, 43, 41, 45, 47]\n",
    "\n",
    "ab_test_analysis(layout_a_clicks, layout_b_clicks)\n"
   ]
  },
  {
   "cell_type": "code",
   "execution_count": 45,
   "id": "5a674a00-6da1-4413-b8bd-043d47110eeb",
   "metadata": {},
   "outputs": [
    {
     "name": "stdout",
     "output_type": "stream",
     "text": [
      "Mean of Existing Drug Levels: 179.4000\n",
      "Mean of New Drug Levels: 171.9000\n",
      "Standard Deviation of Existing Drug Levels: 4.2216\n",
      "Standard Deviation of New Drug Levels: 3.8715\n",
      "T-Statistic: 4.1405\n",
      "Degrees of Freedom: 17.8668\n",
      "P-Value: 0.0006\n",
      "The difference in cholesterol levels between the drugs is statistically significant.\n"
     ]
    }
   ],
   "source": [
    "# 16. A pharmaceutical company wants to determine if a new drug is more effective than an existing drug in\n",
    "# reducing cholesterol levels. Create a program to analyze the clinical trial data and calculate the t-statistic and \n",
    "# p-value for the treatment effect.\n",
    "\n",
    "# Use the followi3g data of cholestrol level:\n",
    "\n",
    "# ```python\n",
    "\n",
    "# existing_drug_levels = [180, 182, 175, 185, 178, 176, 172, 184, 179, 183]\n",
    "\n",
    "# new_drug_levels = [170, 172, 165, 168, 175, 173, 170, 178, 172, 176]\n",
    "\n",
    "import numpy as np\n",
    "import scipy.stats as stats\n",
    "\n",
    "def t_test_analysis(existing_drug_levels, new_drug_levels):\n",
    "    mean_existing = np.mean(existing_drug_levels)\n",
    "    mean_new = np.mean(new_drug_levels)\n",
    "\n",
    "    std_existing = np.std(existing_drug_levels, ddof=1)\n",
    "    std_new = np.std(new_drug_levels, ddof=1)\n",
    "\n",
    "    n_existing = len(existing_drug_levels)\n",
    "    n_new = len(new_drug_levels)\n",
    "\n",
    "    se = np.sqrt((std_existing**2 / n_existing) + (std_new**2 / n_new))\n",
    "\n",
    "    t_statistic = (mean_existing - mean_new) / se\n",
    "\n",
    "    df = (std_existing**2 / n_existing + std_new**2 / n_new)**2 / (((std_existing**2 / n_existing)**2 / (n_existing - 1)) + ((std_new**2 / n_new)**2 / (n_new - 1)))\n",
    "\n",
    "    p_value = 2 * (1 - stats.t.cdf(abs(t_statistic), df))\n",
    "\n",
    "    print(f'Mean of Existing Drug Levels: {mean_existing:.4f}')\n",
    "    print(f'Mean of New Drug Levels: {mean_new:.4f}')\n",
    "    print(f'Standard Deviation of Existing Drug Levels: {std_existing:.4f}')\n",
    "    print(f'Standard Deviation of New Drug Levels: {std_new:.4f}')\n",
    "    print(f'T-Statistic: {t_statistic:.4f}')\n",
    "    print(f'Degrees of Freedom: {df:.4f}')\n",
    "    print(f'P-Value: {p_value:.4f}')\n",
    "    \n",
    "    if p_value < 0.05:\n",
    "        print(\"The difference in cholesterol levels between the drugs is statistically significant.\")\n",
    "    else:\n",
    "        print(\"The difference in cholesterol levels between the drugs is not statistically significant.\")\n",
    "\n",
    "existing_drug_levels = [180, 182, 175, 185, 178, 176, 172, 184, 179, 183]\n",
    "new_drug_levels = [170, 172, 165, 168, 175, 173, 170, 178, 172, 176]\n",
    "\n",
    "t_test_analysis(existing_drug_levels, new_drug_levels)\n"
   ]
  },
  {
   "cell_type": "code",
   "execution_count": 46,
   "id": "06eaf353-55bd-4859-a01f-c7897e214f1a",
   "metadata": {},
   "outputs": [
    {
     "name": "stdout",
     "output_type": "stream",
     "text": [
      "Mean Difference: 7.7000\n",
      "Standard Deviation of Differences: 5.4985\n",
      "T-Statistic: 4.4284\n",
      "Degrees of Freedom: 9\n",
      "P-Value: 0.0017\n",
      "The intervention had a statistically significant impact on test scores.\n"
     ]
    }
   ],
   "source": [
    "# 17. A school district introduces an educational intervention program to improve math scores. Write a Python\n",
    "# function to analyze pre- and post-intervention test scores, calculating the t-statistic and p-value to\n",
    "# deter:ine if the intervention had a significant i:pact.\n",
    "\n",
    "# Use the following data of test score:\n",
    "\n",
    "#   ```python\n",
    "\n",
    "#   pre_intervention_scores = [80, 85, 90, 75, 88, 82, 92, 78, 85, 87]\n",
    "\n",
    "#   pre_intervention_scores = [90, 92, 88, 92, 95, 91, 96, 93, 89, 93]\n",
    "\n",
    "import numpy as np\n",
    "import scipy.stats as stats\n",
    "\n",
    "def paired_t_test(pre_intervention_scores, post_intervention_scores):\n",
    "    if len(pre_intervention_scores) != len(post_intervention_scores):\n",
    "        raise ValueError(\"The length of pre- and post-intervention scores must be the same.\")\n",
    "\n",
    "    differences = np.array(post_intervention_scores) - np.array(pre_intervention_scores)\n",
    "\n",
    "    mean_diff = np.mean(differences)\n",
    "    std_diff = np.std(differences, ddof=1)\n",
    "\n",
    "    n = len(differences)\n",
    "\n",
    "    se = std_diff / np.sqrt(n)\n",
    "\n",
    "    t_statistic = mean_diff / se\n",
    "\n",
    "    df = n - 1\n",
    "\n",
    "    p_value = 2 * (1 - stats.t.cdf(abs(t_statistic), df))\n",
    "\n",
    "    print(f'Mean Difference: {mean_diff:.4f}')\n",
    "    print(f'Standard Deviation of Differences: {std_diff:.4f}')\n",
    "    print(f'T-Statistic: {t_statistic:.4f}')\n",
    "    print(f'Degrees of Freedom: {df}')\n",
    "    print(f'P-Value: {p_value:.4f}')\n",
    "    \n",
    "    if p_value < 0.05:\n",
    "        print(\"The intervention had a statistically significant impact on test scores.\")\n",
    "    else:\n",
    "        print(\"The intervention did not have a statistically significant impact on test scores.\")\n",
    "\n",
    "pre_intervention_scores = [80, 85, 90, 75, 88, 82, 92, 78, 85, 87]\n",
    "post_intervention_scores = [90, 92, 88, 92, 95, 91, 96, 93, 89, 93]\n",
    "\n",
    "paired_t_test(pre_intervention_scores, post_intervention_scores)\n"
   ]
  },
  {
   "cell_type": "code",
   "execution_count": 47,
   "id": "c087aea5-d680-483c-a5ff-f22173b3bc03",
   "metadata": {},
   "outputs": [
    {
     "name": "stdout",
     "output_type": "stream",
     "text": [
      "Mean Salary for Males: $55693.35\n",
      "Mean Salary for Females: $55501.75\n",
      "Standard Deviation of Male Salaries: $8722.69\n",
      "Standard Deviation of Female Salaries: $10968.10\n",
      "T-Statistic: 0.0611\n",
      "Degrees of Freedom: 36.1668\n",
      "P-Value: 0.9516\n",
      "There is no statistically significant difference between male and female salaries.\n"
     ]
    }
   ],
   "source": [
    "# 18. An HR department wants to investigate if there's a gender-based salary gap within the company. Develop\n",
    "# a program to analyze salary data, calculate the t-statistic, and determine if there's a statistically\n",
    "# significant difference between the average salaries of male and female employees.\n",
    "\n",
    "# Use the below code to generate synthetic dataY\n",
    "# ```python\n",
    "\n",
    "# # Generate synthetic salary data for male and female employees\n",
    "\n",
    "# np.random.seed(0)  # For reproducibility\n",
    "\n",
    "# male_salaries = np.random.normal(loc=50000, scale=10000, size=20)\n",
    "\n",
    "# female_salaries = np.random.normal(loc=55000, scale=9000, size=20)\n",
    "\n",
    "import numpy as np\n",
    "import scipy.stats as stats\n",
    "\n",
    "def salary_gap_analysis(male_salaries, female_salaries):\n",
    "    mean_male = np.mean(male_salaries)\n",
    "    mean_female = np.mean(female_salaries)\n",
    "\n",
    "    std_male = np.std(male_salaries, ddof=1)\n",
    "    std_female = np.std(female_salaries, ddof=1)\n",
    "\n",
    "    n_male = len(male_salaries)\n",
    "    n_female = len(female_salaries)\n",
    "    se = np.sqrt((std_male**2 / n_male) + (std_female**2 / n_female))\n",
    "\n",
    "    t_statistic = (mean_male - mean_female) / se\n",
    "\n",
    "    df = (std_male**2 / n_male + std_female**2 / n_female)**2 / (((std_male**2 / n_male)**2 / (n_male - 1)) + ((std_female**2 / n_female)**2 / (n_female - 1)))\n",
    "\n",
    "    p_value = 2 * (1 - stats.t.cdf(abs(t_statistic), df))\n",
    "    \n",
    "    # Output the results\n",
    "    print(f'Mean Salary for Males: ${mean_male:.2f}')\n",
    "    print(f'Mean Salary for Females: ${mean_female:.2f}')\n",
    "    print(f'Standard Deviation of Male Salaries: ${std_male:.2f}')\n",
    "    print(f'Standard Deviation of Female Salaries: ${std_female:.2f}')\n",
    "    print(f'T-Statistic: {t_statistic:.4f}')\n",
    "    print(f'Degrees of Freedom: {df:.4f}')\n",
    "    print(f'P-Value: {p_value:.4f}')\n",
    "    \n",
    "    if p_value < 0.05:\n",
    "        print(\"There is a statistically significant difference between male and female salaries.\")\n",
    "    else:\n",
    "        print(\"There is no statistically significant difference between male and female salaries.\")\n",
    "\n",
    "np.random.seed(0) \n",
    "male_salaries = np.random.normal(loc=50000, scale=10000, size=20)\n",
    "female_salaries = np.random.normal(loc=55000, scale=9000, size=20)\n",
    "\n",
    "salary_gap_analysis(male_salaries, female_salaries)\n",
    "\n"
   ]
  },
  {
   "cell_type": "code",
   "execution_count": 48,
   "id": "83c70993-d8ce-4a1a-8aff-d09fbb735b54",
   "metadata": {},
   "outputs": [
    {
     "name": "stdout",
     "output_type": "stream",
     "text": [
      "Mean Quality Score for Version 1: 86.64\n",
      "Mean Quality Score for Version 2: 79.96\n",
      "Standard Deviation of Version 1 Scores: 2.36\n",
      "Standard Deviation of Version 2 Scores: 1.77\n",
      "T-Statistic: 11.3258\n",
      "Degrees of Freedom: 44.4706\n",
      "P-Value: 0.0000\n",
      "There is a statistically significant difference in quality between the two versions.\n"
     ]
    }
   ],
   "source": [
    "# 19. A manufacturer produces two different versions of a product and wants to compare their quality scores.\n",
    "# Create a Python function to analyze quality assessment data, calculate the t-statistic, and decide\n",
    "# whether there's a signi@icant difference in quality between the two versions.\n",
    "\n",
    "# Use the following dataY\n",
    "# ```python\n",
    "\n",
    "# version1_scores = [85, 88, 82, 89, 87, 84, 90, 88, 85, 86, 91, 83, 87, 84, 89, 86, 84, 88, 85, 86, 89, 90, 87, 88, 85]\n",
    "\n",
    "# version2_scores = [80, 78, 83, 81, 79, 82, 76, 80, 78, 81, 77, 82, 80, 79, 82, 79, 80, 81, 79, 82, 79, 78, 80, 81, 82]\n",
    "\n",
    "import numpy as np\n",
    "import scipy.stats as stats\n",
    "\n",
    "def quality_comparison(version1_scores, version2_scores):\n",
    "    mean_version1 = np.mean(version1_scores)\n",
    "    mean_version2 = np.mean(version2_scores)\n",
    "    std_version1 = np.std(version1_scores, ddof=1)\n",
    "    std_version2 = np.std(version2_scores, ddof=1)\n",
    "    n_version1 = len(version1_scores)\n",
    "    n_version2 = len(version2_scores)\n",
    "    se = np.sqrt((std_version1**2 / n_version1) + (std_version2**2 / n_version2))\n",
    "    t_statistic = (mean_version1 - mean_version2) / se\n",
    "    df = (std_version1**2 / n_version1 + std_version2**2 / n_version2)**2 / (((std_version1**2 / n_version1)**2 / (n_version1 - 1)) + ((std_version2**2 / n_version2)**2 / (n_version2 - 1)))\n",
    "    p_value = 2 * (1 - stats.t.cdf(abs(t_statistic), df))\n",
    "    print(f'Mean Quality Score for Version 1: {mean_version1:.2f}')\n",
    "    print(f'Mean Quality Score for Version 2: {mean_version2:.2f}')\n",
    "    print(f'Standard Deviation of Version 1 Scores: {std_version1:.2f}')\n",
    "    print(f'Standard Deviation of Version 2 Scores: {std_version2:.2f}')\n",
    "    print(f'T-Statistic: {t_statistic:.4f}')\n",
    "    print(f'Degrees of Freedom: {df:.4f}')\n",
    "    print(f'P-Value: {p_value:.4f}')\n",
    "    if p_value < 0.05:\n",
    "        print(\"There is a statistically significant difference in quality between the two versions.\")\n",
    "    else:\n",
    "        print(\"There is no statistically significant difference in quality between the two versions.\")\n",
    "\n",
    "version1_scores = [85, 88, 82, 89, 87, 84, 90, 88, 85, 86, 91, 83, 87, 84, 89, 86, 84, 88, 85, 86, 89, 90, 87, 88, 85]\n",
    "version2_scores = [80, 78, 83, 81, 79, 82, 76, 80, 78, 81, 77, 82, 80, 79, 82, 79, 80, 81, 79, 82, 79, 78, 80, 81, 82]\n",
    "\n",
    "quality_comparison(version1_scores, version2_scores)\n"
   ]
  },
  {
   "cell_type": "code",
   "execution_count": 50,
   "id": "67ef7961-91ea-4d20-9527-0d9466594e1a",
   "metadata": {},
   "outputs": [
    {
     "name": "stdout",
     "output_type": "stream",
     "text": [
      "Mean Satisfaction Score for Branch A: 4.13\n",
      "Mean Satisfaction Score for Branch B: 3.13\n",
      "Standard Deviation of Branch A Scores: 0.72\n",
      "Standard Deviation of Branch B Scores: 0.72\n",
      "T-Statistic: 5.4801\n",
      "Degrees of Freedom: 60.0000\n",
      "P-Value: 0.0000\n",
      "There is a statistically significant difference in customer satisfaction between the two branches.\n"
     ]
    }
   ],
   "source": [
    "#  20. A restaurant chain collects customer satisfaction scores for two different branches. Write a program to\n",
    "# analyze the scores, calculate the t-statistic, and determine if there's a statistically significant difference in\n",
    "# customer satisfaction between the branches.\n",
    "\n",
    "# Use the below data of scores:\n",
    "\n",
    "#   ```python\n",
    "\n",
    "# branch_a_scores = [4, 5, 3, 4, 5, 4, 5, 3, 4, 4, 5, 4, 4, 3, 4, 5, 5, 4, 3, 4, 5, 4, 3, 5, 4, 4, 5, 3, 4, 5, 4]\n",
    "\n",
    "# branch_b_scores = [3, 4, 2, 3, 4, 3, 4, 2, 3, 3, 4, 3, 3, 2, 3, 4, 4, 3, 2, 3, 4, 3, 2, 4, 3, 3, 4, 2, 3, 4, 3]\n",
    "\n",
    "import numpy as np\n",
    "import scipy.stats as stats\n",
    "\n",
    "def analyze_satisfaction(branch_a_scores, branch_b_scores):\n",
    "    mean_a = np.mean(branch_a_scores)\n",
    "    mean_b = np.mean(branch_b_scores)\n",
    "    std_a = np.std(branch_a_scores, ddof=1)\n",
    "    std_b = np.std(branch_b_scores, ddof=1)\n",
    "    n_a = len(branch_a_scores)\n",
    "    n_b = len(branch_b_scores)\n",
    "    se = np.sqrt((std_a**2 / n_a) + (std_b**2 / n_b))\n",
    "    t_statistic = (mean_a - mean_b) / se\n",
    "    df = (std_a**2 / n_a + std_b**2 / n_b)**2 / (((std_a**2 / n_a)**2 / (n_a - 1)) + ((std_b**2 / n_b)**2 / (n_b - 1)))\n",
    "    p_value = 2 * (1 - stats.t.cdf(abs(t_statistic), df))\n",
    "    print(f'Mean Satisfaction Score for Branch A: {mean_a:.2f}')\n",
    "    print(f'Mean Satisfaction Score for Branch B: {mean_b:.2f}')\n",
    "    print(f'Standard Deviation of Branch A Scores: {std_a:.2f}')\n",
    "    print(f'Standard Deviation of Branch B Scores: {std_b:.2f}')\n",
    "    print(f'T-Statistic: {t_statistic:.4f}')\n",
    "    print(f'Degrees of Freedom: {df:.4f}')\n",
    "    print(f'P-Value: {p_value:.4f}')\n",
    "    if p_value < 0.05:\n",
    "        print(\"There is a statistically significant difference in customer satisfaction between the two branches.\")\n",
    "    else:\n",
    "        print(\"There is no statistically significant difference in customer satisfaction between the two branches.\")\n",
    "\n",
    "branch_a_scores = [4, 5, 3, 4, 5, 4, 5, 3, 4, 4, 5, 4, 4, 3, 4, 5, 5, 4, 3, 4, 5, 4, 3, 5, 4, 4, 5, 3, 4, 5, 4]\n",
    "branch_b_scores = [3, 4, 2, 3, 4, 3, 4, 2, 3, 3, 4, 3, 3, 2, 3, 4, 4, 3, 2, 3, 4, 3, 2, 4, 3, 3, 4, 2, 3, 4, 3]\n",
    "\n",
    "analyze_satisfaction(branch_a_scores, branch_b_scores)\n",
    "\n"
   ]
  },
  {
   "cell_type": "code",
   "execution_count": 51,
   "id": "6b19b3c1-b05a-4151-a3f5-d083d53d9dfa",
   "metadata": {},
   "outputs": [
    {
     "name": "stdout",
     "output_type": "stream",
     "text": [
      "Contingency Table:\n",
      "Voter Preference  Candidate A  Candidate B\n",
      "Age Group                                 \n",
      "18-30                      95           87\n",
      "31-50                      87           82\n",
      "51+                        84           65\n",
      "Chi-Square Statistic: 0.8780\n",
      "Degrees of Freedom: 2\n",
      "P-Value: 0.6447\n",
      "There is no statistically significant association between age groups and voter preferences.\n"
     ]
    }
   ],
   "source": [
    "# 21. A political analyst wants to determine if there is a significant association between age groups and voter\n",
    "# preferences (Candidate A or Candidate B). They collect data from a sample of 500 voters and classify\n",
    "# them into different age groups and candidate preferences. Perform a Chi-Square test to determine if\n",
    "# there is a significant association between age groups and voter preferences.\n",
    "\n",
    "# Use the below code to generate data:\n",
    "\n",
    "# ```python\n",
    "\n",
    "# np.random.seed(0)\n",
    "\n",
    "# age_groups = np.random.choice([ 18 30 , 31 50 , 51+', 51+'], size=30)\n",
    "\n",
    "# voter_preferences = np.random.choice(['Candidate A', 'Candidate B'], size=30)\n",
    "\n",
    "import numpy as np\n",
    "import pandas as pd\n",
    "import scipy.stats as stats\n",
    "\n",
    "np.random.seed(0)\n",
    "\n",
    "age_groups = np.random.choice(['18-30', '31-50', '51+'], size=500)\n",
    "voter_preferences = np.random.choice(['Candidate A', 'Candidate B'], size=500)\n",
    "\n",
    "data = pd.DataFrame({\n",
    "    'Age Group': age_groups,\n",
    "    'Voter Preference': voter_preferences\n",
    "})\n",
    "\n",
    "contingency_table = pd.crosstab(data['Age Group'], data['Voter Preference'])\n",
    "chi2_stat, p_value, dof, expected = stats.chi2_contingency(contingency_table)\n",
    "\n",
    "print('Contingency Table:')\n",
    "print(contingency_table)\n",
    "print(f'Chi-Square Statistic: {chi2_stat:.4f}')\n",
    "print(f'Degrees of Freedom: {dof}')\n",
    "print(f'P-Value: {p_value:.4f}')\n",
    "\n",
    "if p_value < 0.05:\n",
    "    print(\"There is a statistically significant association between age groups and voter preferences.\")\n",
    "else:\n",
    "    print(\"There is no statistically significant association between age groups and voter preferences.\")\n"
   ]
  },
  {
   "cell_type": "code",
   "execution_count": 52,
   "id": "ad874891-8347-46e7-9c39-33df18a94bf2",
   "metadata": {},
   "outputs": [
    {
     "name": "stdout",
     "output_type": "stream",
     "text": [
      "Contingency Table:\n",
      "[[50 30 40 20]\n",
      " [30 40 30 50]\n",
      " [20 30 40 30]]\n",
      "Chi-Square Statistic: 27.7771\n",
      "Degrees of Freedom: 6\n",
      "P-Value: 0.0001\n",
      "There is a statistically significant relationship between product satisfaction levels and customer regions.\n"
     ]
    }
   ],
   "source": [
    "#  22. A company conducted a customer satisfaction survey to determine if there is a significant relationship\n",
    "# between product satisfaction levels (Satisfied, Neutral, Dissatisfied) and the region where customers are\n",
    "# located (East, West, North, South). The survey data is summarized in a contingency table. Conduct a ChiSquare test to determine if there is a significant relationship between product satisfaction levels and\n",
    "# customer regions.\n",
    "\n",
    "# Sample data:\n",
    "\n",
    "# ```python\n",
    "\n",
    "# #Sample data: Product satisfaction levels (rows) vs. Customer regions (columns)\n",
    "\n",
    "# data = np.array([[50, 30, 40, 20], [30, 40, 30, 50], [20, 30, 40, 30]])\n",
    "\n",
    "import numpy as np\n",
    "import scipy.stats as stats\n",
    "\n",
    "data = np.array([[50, 30, 40, 20], [30, 40, 30, 50], [20, 30, 40, 30]])\n",
    "\n",
    "chi2_stat, p_value, dof, expected = stats.chi2_contingency(data)\n",
    "\n",
    "print('Contingency Table:')\n",
    "print(data)\n",
    "print(f'Chi-Square Statistic: {chi2_stat:.4f}')\n",
    "print(f'Degrees of Freedom: {dof}')\n",
    "print(f'P-Value: {p_value:.4f}')\n",
    "\n",
    "if p_value < 0.05:\n",
    "    print(\"There is a statistically significant relationship between product satisfaction levels and customer regions.\")\n",
    "else:\n",
    "    print(\"There is no statistically significant relationship between product satisfaction levels and customer regions.\")\n"
   ]
  },
  {
   "cell_type": "code",
   "execution_count": 53,
   "id": "fb5aa2be-a6b9-4927-828d-b4876a367005",
   "metadata": {},
   "outputs": [
    {
     "name": "stdout",
     "output_type": "stream",
     "text": [
      "Contingency Table:\n",
      "[[50 30 20]\n",
      " [30 40 30]\n",
      " [20 30 40]]\n",
      "Chi-Square Statistic: 22.1617\n",
      "Degrees of Freedom: 4\n",
      "P-Value: 0.0002\n",
      "There is a statistically significant difference in job performance levels before and after the training.\n"
     ]
    }
   ],
   "source": [
    "#  23. A company implemented an employee training program to improve job performance (Effective, Neutral,\n",
    "# Ineffective). After the training, they collected data from a sample of employees and classified them based\n",
    "# on their job performance before and after the training. Perform a Chi-Square test to determine if there is a\n",
    "# significant difference between job performance levels before and after the training.\n",
    "\n",
    "# Sample data:\n",
    "\n",
    "# ```python\n",
    "\n",
    "# # Sample data: Job performance levels before (rows) and after (columns) training\n",
    "\n",
    "# data = np.array([[50, 30, 20], [30, 40, 30], [20, 30, 40]])\n",
    "\n",
    "import numpy as np\n",
    "import scipy.stats as stats\n",
    "\n",
    "# Sample data: Job performance levels before (rows) and after (columns) training\n",
    "data = np.array([[50, 30, 20], [30, 40, 30], [20, 30, 40]])\n",
    "\n",
    "# Perform Chi-Square test\n",
    "chi2_stat, p_value, dof, expected = stats.chi2_contingency(data)\n",
    "\n",
    "print('Contingency Table:')\n",
    "print(data)\n",
    "print(f'Chi-Square Statistic: {chi2_stat:.4f}')\n",
    "print(f'Degrees of Freedom: {dof}')\n",
    "print(f'P-Value: {p_value:.4f}')\n",
    "\n",
    "if p_value < 0.05:\n",
    "    print(\"There is a statistically significant difference in job performance levels before and after the training.\")\n",
    "else:\n",
    "    print(\"There is no statistically significant difference in job performance levels before and after the training.\")\n",
    "\n",
    "    "
   ]
  },
  {
   "cell_type": "code",
   "execution_count": 54,
   "id": "27db00fa-4742-4e72-bdc8-6730b269e9fe",
   "metadata": {},
   "outputs": [
    {
     "name": "stdout",
     "output_type": "stream",
     "text": [
      "ANOVA Test Results:\n",
      "F-Statistic: 27.0356\n",
      "P-Value: 0.0000\n",
      "There is a statistically significant difference in customer satisfaction scores among the product versions.\n"
     ]
    }
   ],
   "source": [
    "#  24. A company produces three different versions of a product: Standard, Premium, and Deluxe. The\n",
    "# company wants to determine if there is a significant difference in customer satisfaction scores among the\n",
    "# three product versions. They conducted a survey and collected customer satisfaction scores for each\n",
    "# version from a random sample of customers. Perform an ANOVA test to determine if there is a significant\n",
    "# difference in customer satisfaction scores.\n",
    "\n",
    "  # Use the following data:\n",
    "\n",
    "  # ```python\n",
    "\n",
    "  # # Sample data: Customer satisfaction scores for each product version\n",
    "\n",
    "  # standard_scores = [80, 85, 90, 78, 88, 82, 92, 78, 85, 87]\n",
    "\n",
    "  # premium_scores = [90, 92, 88, 92, 95, 91, 96, 93, 89, 93]\n",
    "\n",
    "  # deluxe_scores = [95, 98, 92, 97, 96, 94, 98, 97, 92, 99]\n",
    "\n",
    "import numpy as np\n",
    "import scipy.stats as stats\n",
    "\n",
    "standard_scores = [80, 85, 90, 78, 88, 82, 92, 78, 85, 87]\n",
    "premium_scores = [90, 92, 88, 92, 95, 91, 96, 93, 89, 93]\n",
    "deluxe_scores = [95, 98, 92, 97, 96, 94, 98, 97, 92, 99]\n",
    "\n",
    "f_statistic, p_value = stats.f_oneway(standard_scores, premium_scores, deluxe_scores)\n",
    "\n",
    "print('ANOVA Test Results:')\n",
    "print(f'F-Statistic: {f_statistic:.4f}')\n",
    "print(f'P-Value: {p_value:.4f}')\n",
    "\n",
    "if p_value < 0.05:\n",
    "    print(\"There is a statistically significant difference in customer satisfaction scores among the product versions.\")\n",
    "else:\n",
    "    print(\"There is no statistically significant difference in customer satisfaction scores among the product versions.\")\n"
   ]
  },
  {
   "cell_type": "code",
   "execution_count": null,
   "id": "5933f738-1548-4765-9377-ae42d835f03b",
   "metadata": {},
   "outputs": [],
   "source": []
  }
 ],
 "metadata": {
  "kernelspec": {
   "display_name": "Python 3 (ipykernel)",
   "language": "python",
   "name": "python3"
  },
  "language_info": {
   "codemirror_mode": {
    "name": "ipython",
    "version": 3
   },
   "file_extension": ".py",
   "mimetype": "text/x-python",
   "name": "python",
   "nbconvert_exporter": "python",
   "pygments_lexer": "ipython3",
   "version": "3.12.5"
  }
 },
 "nbformat": 4,
 "nbformat_minor": 5
}
